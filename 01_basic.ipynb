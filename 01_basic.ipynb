{
  "cells": [
    {
      "cell_type": "markdown",
      "metadata": {
        "colab_type": "text",
        "id": "view-in-github"
      },
      "source": [
        "<a href=\"https://colab.research.google.com/github/KKBUGHUNTER/Image_Processing/blob/main/01_basic.ipynb\" target=\"_parent\"><img src=\"https://colab.research.google.com/assets/colab-badge.svg\" alt=\"Open In Colab\"/></a>"
      ]
    },
    {
      "cell_type": "markdown",
      "metadata": {
        "id": "Az9tXlhkcFEs"
      },
      "source": []
    },
    {
      "cell_type": "code",
      "execution_count": 4,
      "metadata": {
        "colab": {
          "base_uri": "https://localhost:8080/"
        },
        "id": "yZQHgYGmblHl",
        "outputId": "5a719a59-e6c5-40a0-f623-1c7d600bb9e5"
      },
      "outputs": [
        {
          "name": "stdout",
          "output_type": "stream",
          "text": [
            "Black and White Image\n",
            "[[[255 255 255]\n",
            "  [255 255 255]\n",
            "  [255 255 255]\n",
            "  ...\n",
            "  [255 255 255]\n",
            "  [255 255 255]\n",
            "  [255 255 255]]\n",
            "\n",
            " [[255 255 255]\n",
            "  [255 255 255]\n",
            "  [255 255 255]\n",
            "  ...\n",
            "  [255 255 255]\n",
            "  [255 255 255]\n",
            "  [255 255 255]]\n",
            "\n",
            " [[255 255 255]\n",
            "  [255 255 255]\n",
            "  [255 255 255]\n",
            "  ...\n",
            "  [255 255 255]\n",
            "  [255 255 255]\n",
            "  [255 255 255]]\n",
            "\n",
            " ...\n",
            "\n",
            " [[255 255 255]\n",
            "  [255 255 255]\n",
            "  [255 255 255]\n",
            "  ...\n",
            "  [255 255 255]\n",
            "  [255 255 255]\n",
            "  [255 255 255]]\n",
            "\n",
            " [[255 255 255]\n",
            "  [255 255 255]\n",
            "  [255 255 255]\n",
            "  ...\n",
            "  [255 255 255]\n",
            "  [255 255 255]\n",
            "  [255 255 255]]\n",
            "\n",
            " [[255 255 255]\n",
            "  [255 255 255]\n",
            "  [255 255 255]\n",
            "  ...\n",
            "  [255 255 255]\n",
            "  [255 255 255]\n",
            "  [255 255 255]]]\n"
          ]
        }
      ],
      "source": [
        "import numpy as np\n",
        "import cv2\n",
        "BW_image_path = \"Images/Black_and_White_image.png\"\n",
        "\n",
        "BW_image = cv2.imread(BW_image_path)\n",
        "print(\"Black and White Image\")\n",
        "print(BW_image)"
      ]
    },
    {
      "cell_type": "code",
      "execution_count": 5,
      "metadata": {
        "id": "Igqa_5LJgK8a"
      },
      "outputs": [
        {
          "name": "stdout",
          "output_type": "stream",
          "text": [
            "Height of the image 225\n",
            "Width of the image 225\n"
          ]
        }
      ],
      "source": [
        "print('Height of the image', len(BW_image))\n",
        "print('Width of the image', len(BW_image[1]))"
      ]
    },
    {
      "cell_type": "code",
      "execution_count": 7,
      "metadata": {},
      "outputs": [
        {
          "name": "stdout",
          "output_type": "stream",
          "text": [
            "4 Neighbor of f(10,20): \n",
            "\n",
            "        [255 255 255]\n",
            "[255 255 255] [255 255 255] [255 255 255]\n",
            "        [255 255 255]\n",
            "\n",
            "\n",
            "4 Neighbor of f(3,4): \n",
            "\n",
            "        [255 255 255]\n",
            "[255 255 255] [255 255 255] [255 255 255]\n",
            "        [255 255 255]\n"
          ]
        }
      ],
      "source": [
        "def Neigbhor_4(x,y):\n",
        "  print(\"       \", BW_image[x-1][y])\n",
        "  print(BW_image[x][y-1],BW_image[x][y],BW_image[x][y+1])\n",
        "  print(\"       \", BW_image[x+1][y],)\n",
        "\n",
        "print(\"4 Neighbor of f(10,20): \\n\")\n",
        "Neigbhor_4(10,20)\n",
        "print(\"\\n\\n4 Neighbor of f(3,4): \\n\")\n",
        "Neigbhor_4(3,4)"
      ]
    },
    {
      "cell_type": "code",
      "execution_count": 6,
      "metadata": {},
      "outputs": [
        {
          "name": "stdout",
          "output_type": "stream",
          "text": [
            "8 Neighbor of f(10,20): \n",
            "\n",
            "[255 255 255] [255 255 255] [255 255 255]\n",
            "[255 255 255] [255 255 255] [255 255 255]\n",
            "[255 255 255] [255 255 255] [255 255 255]\n",
            "\n",
            "\n",
            "8 Neighbor of f(3,4): \n",
            "\n",
            "[255 255 255] [255 255 255] [255 255 255]\n",
            "[255 255 255] [255 255 255] [255 255 255]\n",
            "[255 255 255] [255 255 255] [255 255 255]\n"
          ]
        }
      ],
      "source": [
        "def Neigbhor_8(x,y):\n",
        "  print(BW_image[x-1][y-1],BW_image[x-1][y],BW_image[x-1][y+1])\n",
        "  print(BW_image[x][y-1],BW_image[x][y],BW_image[x][y+1])\n",
        "  print(BW_image[x+1][y-1],BW_image[x+1][y],BW_image[x+1][y+1])\n",
        "\n",
        "print(\"8 Neighbor of f(10,20): \\n\")\n",
        "Neigbhor_8(10,20)\n",
        "print(\"\\n\\n8 Neighbor of f(3,4): \\n\")\n",
        "Neigbhor_8(3,4)"
      ]
    },
    {
      "cell_type": "markdown",
      "metadata": {},
      "source": [
        "## Nearest Neighbor Interpolation"
      ]
    },
    {
      "cell_type": "code",
      "execution_count": 16,
      "metadata": {},
      "outputs": [],
      "source": []
    },
    {
      "cell_type": "code",
      "execution_count": 15,
      "metadata": {},
      "outputs": [],
      "source": []
    }
  ],
  "metadata": {
    "colab": {
      "authorship_tag": "ABX9TyOOnI3qkPAxtrQKKfro3nyv",
      "include_colab_link": true,
      "provenance": []
    },
    "kernelspec": {
      "display_name": "Python 3",
      "name": "python3"
    },
    "language_info": {
      "codemirror_mode": {
        "name": "ipython",
        "version": 3
      },
      "file_extension": ".py",
      "mimetype": "text/x-python",
      "name": "python",
      "nbconvert_exporter": "python",
      "pygments_lexer": "ipython3",
      "version": "3.10.12"
    }
  },
  "nbformat": 4,
  "nbformat_minor": 0
}
